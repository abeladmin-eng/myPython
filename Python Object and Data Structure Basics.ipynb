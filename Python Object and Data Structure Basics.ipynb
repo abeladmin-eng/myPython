{
 "cells": [
  {
   "cell_type": "markdown",
   "metadata": {},
   "source": [
    "01 Python Object and Data Structure Basics\n",
    "\n",
    "        a) Numbers\n",
    "        b) Variable Assignment\n",
    "        c) Strings\n",
    "        d) Print Formatting with Strings\n",
    "        e) Lists\n",
    "        f) Dictionaries\n",
    "        g) Tuples\n",
    "        h) Sets and Booleans\n",
    "        i) Files\n",
    "     \n"
   ]
  }
 ],
 "metadata": {
  "kernelspec": {
   "display_name": "Python 3",
   "language": "python",
   "name": "python3"
  },
  "language_info": {
   "codemirror_mode": {
    "name": "ipython",
    "version": 3
   },
   "file_extension": ".py",
   "mimetype": "text/x-python",
   "name": "python",
   "nbconvert_exporter": "python",
   "pygments_lexer": "ipython3",
   "version": "3.7.1"
  }
 },
 "nbformat": 4,
 "nbformat_minor": 2
}

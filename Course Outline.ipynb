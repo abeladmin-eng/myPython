{
 "cells": [
  {
   "cell_type": "markdown",
   "metadata": {},
   "source": [
    "Python from Scratch\n",
    "Course Outline\n",
    "\n",
    "01 - Python Object and Data Structure Basics\n",
    "02 - Python Comparison Operators\n",
    "03 - Python Statements\n",
    "04 - Methods and Functions\n",
    "05 - Object Oriented Programming\n",
    "06 - Modules and Packages\n",
    "07 - Errors and Exception Handling\n",
    "08 - Built-in Functions\n",
    "09 - Python Decorators\n",
    "10 - Python Generators\n",
    "11 - Advanced Python Modules\n",
    "12 - Advanced Python Objects and Data Structures\n",
    "13 - Advanced OOP\n",
    "14 - Bonus Material - Introduction to GUIs\n",
    "15 - Parallel Processing\n",
    "\n"
   ]
  },
  {
   "cell_type": "code",
   "execution_count": 1,
   "metadata": {},
   "outputs": [
    {
     "data": {
      "text/plain": [
       "'C:\\\\Users\\\\abelu\\\\Google Drive\\\\My Python'"
      ]
     },
     "execution_count": 1,
     "metadata": {},
     "output_type": "execute_result"
    }
   ],
   "source": [
    "pwd"
   ]
  },
  {
   "cell_type": "code",
   "execution_count": null,
   "metadata": {},
   "outputs": [],
   "source": []
  }
 ],
 "metadata": {
  "kernelspec": {
   "display_name": "Python 3",
   "language": "python",
   "name": "python3"
  },
  "language_info": {
   "codemirror_mode": {
    "name": "ipython",
    "version": 3
   },
   "file_extension": ".py",
   "mimetype": "text/x-python",
   "name": "python",
   "nbconvert_exporter": "python",
   "pygments_lexer": "ipython3",
   "version": "3.7.1"
  }
 },
 "nbformat": 4,
 "nbformat_minor": 2
}
